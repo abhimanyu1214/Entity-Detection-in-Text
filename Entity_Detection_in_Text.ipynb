{
  "nbformat": 4,
  "nbformat_minor": 0,
  "metadata": {
    "colab": {
      "name": "Entity Detection in Text",
      "provenance": [],
      "authorship_tag": "ABX9TyNGyZdgEyydSZWuhoevYGc5",
      "include_colab_link": true
    },
    "kernelspec": {
      "name": "python3",
      "display_name": "Python 3"
    }
  },
  "cells": [
    {
      "cell_type": "markdown",
      "metadata": {
        "id": "view-in-github",
        "colab_type": "text"
      },
      "source": [
        "<a href=\"https://colab.research.google.com/github/abhimanyu1214/Entity-Detection-in-Text/blob/main/Entity_Detection_in_Text.ipynb\" target=\"_parent\"><img src=\"https://colab.research.google.com/assets/colab-badge.svg\" alt=\"Open In Colab\"/></a>"
      ]
    },
    {
      "cell_type": "markdown",
      "metadata": {
        "id": "Q6n1_klE2h1T"
      },
      "source": [
        "Before developing and training your own NER model, it's worth your time to first consider the requirements of your project and try out some of the preexisting off-the-shelf NER models to see if they can do the job for you. Preexisting NER models have the advantage of being ready to test in a few lines of code and are in some cases designed around being fast and robust in a production setting.\r\n",
        "\r\n",
        "If your project requires you to identify basic NER types like people, organizations, locations, etc. then I encourage you to first test your project with the existing NER models from spaCy, Stanford, and Flair.\r\n",
        "\r\n",
        "The following code cell shows how to retrieve entity tags for some text using spaCy, which comes pre-installed on Colab.\r\n"
      ]
    },
    {
      "cell_type": "code",
      "metadata": {
        "colab": {
          "base_uri": "https://localhost:8080/"
        },
        "id": "UruskRWBtEB9",
        "outputId": "2be7f416-5729-4c7c-9520-1d45cb4f5b4c"
      },
      "source": [
        "import spacy\r\n",
        "\r\n",
        "# Download a spacy model for processing English\r\n",
        "nlp = spacy.load(\"en_core_web_sm\")\r\n",
        "\r\n",
        "# Process a sentence using the spacy model\r\n",
        "doc = nlp(\"Google LLC is an American multinational technology company that specializes in Internet-related services and products, which include online advertising technologies, a search engine, cloud computing, software, and hardware. It is considered one of the Big Five technology companies in the U.S. information technology industry, alongside Amazon, Facebook, Apple, and Microsoft.\")\r\n",
        "doc = nlp(\"Google was founded in September 1998 by Larry Page and Sergey Brin while they were Ph.D. students at Stanford University in California. Together they own about 14 percent of its shares and control 56 percent of the stockholder voting power through supervoting stock. They incorporated Google as a California privately held company on September 4, 1998. Google was then reincorporated in Delaware on October 22, 2002.\")\r\n",
        "# Display the entities found by the model, and the type of each.\r\n",
        "print('{:<12}  {:}\\n'.format('Entity', 'Type'))\r\n",
        "\r\n",
        "# For each entity found...\r\n",
        "for ent in doc.ents:\r\n",
        "    \r\n",
        "    # Print the entity text `ent.text` and its label `ent.label_`.\r\n",
        "    print('{:<12}  {:}'.format(ent.text, ent.label_))"
      ],
      "execution_count": 13,
      "outputs": [
        {
          "output_type": "stream",
          "text": [
            "Entity        Type\n",
            "\n",
            "Google        ORG\n",
            "September 1998  DATE\n",
            "Larry Page    PERSON\n",
            "Sergey Brin   PERSON\n",
            "Ph.D.         WORK_OF_ART\n",
            "Stanford University  ORG\n",
            "California    GPE\n",
            "about 14 percent  PERCENT\n",
            "56 percent    PERCENT\n",
            "Google        ORG\n",
            "California    GPE\n",
            "September 4, 1998  DATE\n",
            "Google        ORG\n",
            "Delaware      GPE\n",
            "October 22, 2002  DATE\n"
          ],
          "name": "stdout"
        }
      ]
    },
    {
      "cell_type": "markdown",
      "metadata": {
        "id": "doEx7Tlx2AT2"
      },
      "source": [
        "Named Entity Recognition (NER) tasks here, we wanted to provide some practical guidance and resources for building your own NER application since fine-tuning BERT may not be the best solution for every NER application.\r\n",
        "\r\n",
        "In this post, we will:\r\n",
        "\r\n",
        "1.Discuss when it might be appropriate to use an off-the-shelf library vs training / fine-tuning your own model.\r\n",
        "2.Point you to some popular libraries for performing NER tagging and share some quick-start examples.\r\n",
        "3.Share some resources we've found comparing and benchmarking different NER tools.\r\n"
      ]
    },
    {
      "cell_type": "markdown",
      "metadata": {
        "id": "ornu4xGE2wpZ"
      },
      "source": [
        "When to Fine-Tune\r\n",
        "\r\n",
        "In some cases, these off-the-shelf libraries won't be the best solution for your project. You might have:\r\n",
        "\r\n",
        "    Specific entity types that are not included in the off-the-shelf versions\r\n",
        "    A different kind of text corpus from what the off-the-shelf models are trained on\r\n",
        "    Very high accuracy or recall requirements\r\n",
        "\r\n",
        "In general, fine-tuning BERT (or variants of BERT) on your dataset will yield a highly accurate tagger, and with less training data required than training a custom model from scratch.\r\n",
        "\r\n",
        "The biggest caveat, however, is that BERT models are large, and typically warrant GPU acceleration. Working with GPUs can be expensive, and BERT will be slower to run on text than tools like spaCy.\r\n",
        "\r\n",
        "So consider your production requirements for speed, accuracy, and cost before going straight to BERT!\r\n",
        "Resources & Experiments\r\n",
        "\r\n",
        "There is, of course, a lot more that can be said about these different NLP toolkits. Our goal for this post was to simply make sure that you were aware of them, and the reasons you might use them over BERT.\r\n",
        "\r\n",
        "The following are some articles which we found informative, containing experiments, summaries, benchmarks, and other comparisons of different NER tools. They're worth looking through if you'd like to get a sense of NER pipelines and the power of existing NER tools. Below each article, we've highlighted the main points."
      ]
    },
    {
      "cell_type": "code",
      "metadata": {
        "colab": {
          "base_uri": "https://localhost:8080/"
        },
        "id": "2Kf8e637uYBG",
        "outputId": "e3330d5d-98d0-447d-f23c-5fd53f4fa1c9"
      },
      "source": [
        "from flair.data import Sentence\r\n",
        "from flair.models import SequenceTagger\r\n",
        "\r\n",
        "# Make a sentence\r\n",
        "sentence = Sentence(\"The company's rapid growth since incorporation has triggered a chain of products, acquisitions, and partnerships beyond Google's core search engine (Google Search). It offers services designed for work and productivity (Google Docs, Google Sheets, and Google Slides), email (Gmail), scheduling and time management (Google Calendar), cloud storage (Google Drive), instant messaging and video chat (Duo, Hangouts, Chat, and Meet), language translation (Google Translate), mapping and navigation (Google Maps, Waze, Google Earth, and Street View), podcast hosting (Google Podcasts), video sharing (YouTube), blog publishing (Blogger), note-taking (Google Keep and Google Jamboard), and photo organizing and editing (Google Photos). \")\r\n",
        "\r\n",
        "# Load the NER tagger\r\n",
        "# This file is around 1.5 GB so will take a little while to load.\r\n",
        "tagger = SequenceTagger.load('ner-ontonotes')\r\n",
        "\r\n",
        "# Run NER over sentence\r\n",
        "tagger.predict(sentence)\r\n",
        "\r\n",
        "# Retrieve the entities found by the tagger.\r\n",
        "entity_dict = sentence.to_dict(tag_type='ner')\r\n",
        "\r\n",
        "# Display the entities, and the type(s) of each.\r\n",
        "print('\\n{:<12}  {:}\\n'.format('Entity', 'Type(s)'))\r\n",
        "\r\n",
        "# For each entity...\r\n",
        "for entity in entity_dict['entities']:\r\n",
        "    \r\n",
        "    # Print the entity text and its labels. Flair supports multiple labels\r\n",
        "    # per entity, and includes a confidence score.\r\n",
        "    print('{:<12}  {:}'.format(entity[\"text\"], str(entity[\"labels\"])))"
      ],
      "execution_count": 14,
      "outputs": [
        {
          "output_type": "stream",
          "text": [
            "2021-01-28 02:28:50,436 loading file /root/.flair/models/en-ner-ontonotes-v0.4.pt\n",
            "\n",
            "Entity        Type(s)\n",
            "\n",
            "Google        [ORG (0.9999)]\n",
            "Google Search  [ORG (0.6656)]\n",
            "Google Docs   [ORG (0.7732)]\n",
            "Google Sheets  [ORG (0.4692)]\n",
            "Google Slides  [ORG (0.6962)]\n",
            "Google Calendar  [ORG (0.4058)]\n",
            "Google Drive  [PRODUCT (0.725)]\n",
            "Duo           [PRODUCT (0.8896)]\n",
            "Hangouts      [PRODUCT (0.6412)]\n",
            "Meet          [ORG (0.9559)]\n",
            "Google        [ORG (0.6744)]\n",
            "Translate     [PRODUCT (0.5829)]\n",
            "Google Maps   [PRODUCT (0.7484)]\n",
            "Waze          [ORG (0.8816)]\n",
            "Google Earth  [ORG (0.6109)]\n",
            "Street View   [ORG (0.7651)]\n",
            "Google Podcasts  [ORG (0.618)]\n",
            "YouTube       [ORG (0.8468)]\n",
            "Blogger       [ORG (0.7347)]\n",
            "Google        [ORG (0.9501)]\n",
            "Jamboard      [PRODUCT (0.8827)]\n",
            "Google Photos  [ORG (0.641)]\n"
          ],
          "name": "stdout"
        }
      ]
    },
    {
      "cell_type": "markdown",
      "metadata": {
        "id": "J_IsBeq82bXy"
      },
      "source": [
        ""
      ]
    },
    {
      "cell_type": "markdown",
      "metadata": {
        "id": "45wpDQJ72_tC"
      },
      "source": [
        "We'll first need to install the library from GitHub. Then we have to install it."
      ]
    },
    {
      "cell_type": "code",
      "metadata": {
        "id": "9thzkWyaull_"
      },
      "source": [
        "!pip install --upgrade git+https://github.com/flairNLP/flair.git"
      ],
      "execution_count": null,
      "outputs": []
    },
    {
      "cell_type": "markdown",
      "metadata": {
        "id": "I3HeJNiZ3GjU"
      },
      "source": [
        "install stanza"
      ]
    },
    {
      "cell_type": "code",
      "metadata": {
        "id": "waQgyFWNvPOS"
      },
      "source": [
        "!pip install stanza"
      ],
      "execution_count": null,
      "outputs": []
    },
    {
      "cell_type": "code",
      "metadata": {
        "colab": {
          "base_uri": "https://localhost:8080/"
        },
        "id": "j-4u1y9ivT6t",
        "outputId": "d04c0904-68d9-4157-ff98-99ba1b32a28d"
      },
      "source": [
        "import stanza\r\n",
        "\r\n",
        "# This downloads the English models for the neural pipeline\r\n",
        "stanza.download('en')     \r\n",
        "\r\n",
        "# This sets up a default neural pipeline in English\r\n",
        "nlp = stanza.Pipeline('en') \r\n",
        "\r\n",
        "# Process a sentence.\r\n",
        "doc = nlp(\" The Google company leads the development of the Android mobile operating system, the Google Chrome web browser, and Chrome OS, a lightweight operating system based on the Chrome browser. Google has moved increasingly into hardware; from 2010 to 2015, it partnered with major electronics manufacturers in the production of its Nexus devices, and it released multiple hardware products in October 2016, including the Google Pixel line of smartphones, Google Home smart speaker, Google Wifi mesh wireless router, and Google Daydream virtual reality headset. Google has also experimented with becoming an Internet carrier (Google Fiber, Google Fi, and Google Station).\")\r\n",
        "\r\n",
        "\r\n",
        "# Display the text and type of entities the model found\r\n",
        "print('\\n{:<12}  {:}\\n'.format('Entity', 'Type'))\r\n",
        "\r\n",
        "# For each entity...\r\n",
        "for entity in doc.entities:\r\n",
        "\r\n",
        "    # Print the text and its type.\r\n",
        "    print('{:<12}  {:}'.format(entity.text, entity.type))"
      ],
      "execution_count": 18,
      "outputs": [
        {
          "output_type": "stream",
          "text": [
            "Downloading https://raw.githubusercontent.com/stanfordnlp/stanza-resources/master/resources_1.2.0.json: 128kB [00:00, 29.8MB/s]                    \n",
            "2021-01-28 02:34:35 INFO: Downloading default packages for language: en (English)...\n",
            "2021-01-28 02:34:37 INFO: File exists: /root/stanza_resources/en/default.zip.\n",
            "2021-01-28 02:34:42 INFO: Finished downloading models and saved to /root/stanza_resources.\n",
            "2021-01-28 02:34:42 INFO: Loading these models for language: en (English):\n",
            "=========================\n",
            "| Processor | Package   |\n",
            "-------------------------\n",
            "| tokenize  | combined  |\n",
            "| pos       | combined  |\n",
            "| lemma     | combined  |\n",
            "| depparse  | combined  |\n",
            "| sentiment | sstplus   |\n",
            "| ner       | ontonotes |\n",
            "=========================\n",
            "\n",
            "2021-01-28 02:34:42 INFO: Use device: cpu\n",
            "2021-01-28 02:34:42 INFO: Loading: tokenize\n",
            "2021-01-28 02:34:42 INFO: Loading: pos\n",
            "2021-01-28 02:34:42 INFO: Loading: lemma\n",
            "2021-01-28 02:34:42 INFO: Loading: depparse\n",
            "2021-01-28 02:34:42 INFO: Loading: sentiment\n",
            "2021-01-28 02:34:43 INFO: Loading: ner\n",
            "2021-01-28 02:34:43 INFO: Done loading processors!\n"
          ],
          "name": "stderr"
        },
        {
          "output_type": "stream",
          "text": [
            "\n",
            "Entity        Type\n",
            "\n",
            "Google        ORG\n",
            "Android       PRODUCT\n",
            "Google Chrome  PRODUCT\n",
            "Chrome OS     PRODUCT\n",
            "Chrome        PRODUCT\n",
            "Google        ORG\n",
            "2010 to 2015  DATE\n",
            "Nexus         ORG\n",
            "October 2016  DATE\n",
            "Google Pixel  PRODUCT\n",
            "Google Home   PRODUCT\n",
            "Google Wifi   PRODUCT\n",
            "Google Daydream  PRODUCT\n",
            "Google        ORG\n",
            "Google Fiber  ORG\n",
            "Google Fi     PRODUCT\n",
            "Google Station  ORG\n"
          ],
          "name": "stdout"
        }
      ]
    }
  ]
}